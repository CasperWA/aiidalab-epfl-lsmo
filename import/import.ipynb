{
 "cells": [
  {
   "cell_type": "markdown",
   "metadata": {},
   "source": [
    "# Upload Structure"
   ]
  },
  {
   "cell_type": "code",
   "execution_count": null,
   "metadata": {},
   "outputs": [],
   "source": [
    "from __future__ import print_function\n",
    "\n",
    "from aiida import load_dbenv, is_dbenv_loaded\n",
    "from aiida.backends import settings\n",
    "if not is_dbenv_loaded():\n",
    "    load_dbenv(profile=settings.AIIDADB_PROFILE)\n",
    "from aiida.orm import load_node\n",
    "\n",
    "\n",
    "from aiida.orm.querybuilder import QueryBuilder\n",
    "from aiida.orm.data.cif import CifData\n",
    "from aiida.orm.data.parameter import ParameterData\n",
    "from aiida.orm.calculation import Calculation\n",
    "from aiida.common.links import LinkType\n",
    "\n",
    "from aiida.work import workfunction as wf\n",
    "\n",
    "\n",
    "import re\n",
    "import csv\n",
    "import ase.io\n",
    "import numpy as np\n",
    "import ipywidgets as ipw\n",
    "from base64 import b64decode\n",
    "from IPython.display import display, clear_output, Image\n",
    "from fileupload import FileUploadWidget"
   ]
  },
  {
   "cell_type": "markdown",
   "metadata": {},
   "source": [
    "## Step 1: Upload file"
   ]
  },
  {
   "cell_type": "code",
   "execution_count": null,
   "metadata": {},
   "outputs": [],
   "source": [
    "folder_db = '/project/materials-cloud'"
   ]
  },
  {
   "cell_type": "code",
   "execution_count": null,
   "metadata": {},
   "outputs": [],
   "source": [
    "start_from = 1\n",
    "end_at = None"
   ]
  },
  {
   "cell_type": "code",
   "execution_count": null,
   "metadata": {},
   "outputs": [],
   "source": [
    "prms_dict = {}"
   ]
  },
  {
   "cell_type": "code",
   "execution_count": null,
   "metadata": {},
   "outputs": [],
   "source": [
    "@wf\n",
    "def link_parameters(cif):\n",
    "    return ParameterData(dict=prms_dict)"
   ]
  },
  {
   "cell_type": "code",
   "execution_count": null,
   "metadata": {},
   "outputs": [],
   "source": [
    "def upload_all_structures():\n",
    "    with open(folder_db+'/output.allStructures', 'r') as csvfile:\n",
    "        global prms_dict\n",
    "        number_of_structures = 1\n",
    "        prog = re.compile('\\[(.*?)\\]')\n",
    "        reader = csv.reader(csvfile)\n",
    "\n",
    "        fields = next(reader, None)\n",
    "        for i,unit in enumerate(fields): \n",
    "            fields[i]= unit.strip()\n",
    "\n",
    "        name_fld = [i for i,x in enumerate(fields) if x == 'name'][0]\n",
    "\n",
    "        for row in reader:\n",
    "            if number_of_structures < start_from and start_from is not None:\n",
    "                number_of_structures += 1\n",
    "                continue\n",
    "            if number_of_structures > end_at and end_at is not None:\n",
    "                break\n",
    "\n",
    "            prms_dict = {}\n",
    "            for i,unit in enumerate(row): \n",
    "                row[i]= unit.strip()\n",
    "            cif = CifData(file =folder_db+'/structures/'+row[name_fld]+'.cif', scan_type='flex', parse_policy='lazy')\n",
    "\n",
    "            cif.description = row[name_fld]\n",
    "\n",
    "            for i,fld in enumerate(fields):\n",
    "                m = re.search(prog, fld)\n",
    "                if m:\n",
    "                    units = m.group(1).strip()\n",
    "                    fld = re.sub(prog,'',fld).strip().replace(' ', '_')\n",
    "                    prms_dict[fld] = row[i]\n",
    "                    prms_dict[fld+'_units'] = units\n",
    "                else:\n",
    "                    fld = fld.replace(' ', '_')\n",
    "                    prms_dict[fld] = row[i]\n",
    "\n",
    "            params = link_parameters(cif=cif)\n",
    "            number_of_structures += 1\n",
    "        print (number_of_structures-1)\n"
   ]
  },
  {
   "cell_type": "code",
   "execution_count": null,
   "metadata": {},
   "outputs": [],
   "source": [
    "#upload_all_structures()"
   ]
  }
 ],
 "metadata": {
  "kernelspec": {
   "display_name": "Python 2",
   "language": "python",
   "name": "python2"
  },
  "language_info": {
   "codemirror_mode": {
    "name": "ipython",
    "version": 2
   },
   "file_extension": ".py",
   "mimetype": "text/x-python",
   "name": "python",
   "nbconvert_exporter": "python",
   "pygments_lexer": "ipython2",
   "version": "2.7.14"
  }
 },
 "nbformat": 4,
 "nbformat_minor": 2
}
