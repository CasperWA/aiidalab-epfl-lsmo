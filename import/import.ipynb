{
 "cells": [
  {
   "cell_type": "markdown",
   "metadata": {},
   "source": [
    "# Import non-AiiDA database\n",
    "\n",
    "Press the \"Edit App\" button to see more details"
   ]
  },
  {
   "cell_type": "code",
   "execution_count": null,
   "metadata": {},
   "outputs": [],
   "source": [
    "from __future__ import print_function\n",
    "\n",
    "from aiida import load_dbenv, is_dbenv_loaded\n",
    "from aiida.backends import settings\n",
    "if not is_dbenv_loaded():\n",
    "    load_dbenv(profile=settings.AIIDADB_PROFILE)\n",
    "from aiida.orm import load_node, Group\n",
    "\n",
    "from aiida.orm.data.cif import CifData\n",
    "from aiida.orm.data.parameter import ParameterData\n",
    "from aiida.work import workfunction\n",
    "\n",
    "import re\n",
    "import csv\n",
    "import ase.io\n",
    "import numpy as np\n",
    "import pandas as pd"
   ]
  },
  {
   "cell_type": "code",
   "execution_count": null,
   "metadata": {},
   "outputs": [],
   "source": [
    "folder_db = '/Users/leopold/Personal/Postdoc-MARVEL/Projects/2018-03_COF_structures/bokeh/mc-epfl-lsmo/DB'\n",
    "structure_folder = folder_db + '/structures/'\n",
    "properties_csv = folder_db + '/properties.csv'\n",
    "group_name = 'structures'   # all structures will be put in this group"
   ]
  },
  {
   "cell_type": "code",
   "execution_count": null,
   "metadata": {},
   "outputs": [],
   "source": [
    "data = None\n",
    "def parse_csv(path):\n",
    "    global data\n",
    "    data = pd.read_csv(path, low_memory=False, verbose=1, skipinitialspace=True)\n",
    "    print(\"Read {} lines from .csv file\".format(len(data)))\n",
    "parse_csv(properties_csv)"
   ]
  },
  {
   "cell_type": "code",
   "execution_count": null,
   "metadata": {},
   "outputs": [],
   "source": [
    "prms_dict = {}\n",
    "@workfunction\n",
    "def link_parameters(cif):\n",
    "    return ParameterData(dict=prms_dict)"
   ]
  },
  {
   "cell_type": "code",
   "execution_count": null,
   "metadata": {},
   "outputs": [],
   "source": [
    "def store_structures_and_properties(start_from=0, end_at=10):\n",
    "    global prms_dict, data\n",
    "    labels = data.keys()\n",
    "        \n",
    "    ndata = len(data)\n",
    "    \n",
    "    structure_group, success = Group.get_or_create(name=group_name)\n",
    "               \n",
    "    unit_regex = re.compile('\\[(.*?)\\]')\n",
    "    for i in range(start_from, end_at):\n",
    "               \n",
    "        cif = CifData(file=structure_folder + data['name'][i]+'.cif', scan_type='flex', parse_policy='lazy')\n",
    "        cif.description = data['name'][i]\n",
    "\n",
    "        prms_dict = {}\n",
    "        for label in labels:\n",
    "            match = re.search(unit_regex, label)\n",
    "            if match:\n",
    "                units = match.group(1).strip()\n",
    "                label_new = re.sub(unit_regex,'',label).strip().replace(' ', '_')\n",
    "                prms_dict[label_new] = data[label][i]\n",
    "                prms_dict[label_new+'_units'] = units\n",
    "            else:\n",
    "                label_new = label.replace(' ', '_')\n",
    "                prms_dict[label_new] = data[label][i]\n",
    "\n",
    "        params = link_parameters(cif=cif)\n",
    "        structure_group.add_nodes([cif])\n",
    "        \n",
    "        if i % 100 == 0:\n",
    "            print(\"Stored structure no. {}, {}\".format(i, data['name'][i]))"
   ]
  },
  {
   "cell_type": "code",
   "execution_count": null,
   "metadata": {},
   "outputs": [],
   "source": [
    "store_structures_and_properties()"
   ]
  },
  {
   "cell_type": "code",
   "execution_count": null,
   "metadata": {},
   "outputs": [],
   "source": []
  }
 ],
 "metadata": {
  "kernelspec": {
   "display_name": "Python 2",
   "language": "python",
   "name": "python2"
  },
  "language_info": {
   "codemirror_mode": {
    "name": "ipython",
    "version": 2
   },
   "file_extension": ".py",
   "mimetype": "text/x-python",
   "name": "python",
   "nbconvert_exporter": "python",
   "pygments_lexer": "ipython2",
   "version": "2.7.15"
  }
 },
 "nbformat": 4,
 "nbformat_minor": 2
}
