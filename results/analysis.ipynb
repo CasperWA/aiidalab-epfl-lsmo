{
 "cells": [
  {
   "cell_type": "markdown",
   "metadata": {},
   "source": [
    "# Upload Structure"
   ]
  },
  {
   "cell_type": "code",
   "execution_count": 1,
   "metadata": {},
   "outputs": [],
   "source": [
    "from __future__ import print_function\n",
    "\n",
    "from aiida import load_dbenv, is_dbenv_loaded\n",
    "from aiida.backends import settings\n",
    "if not is_dbenv_loaded():\n",
    "    load_dbenv(profile=settings.AIIDADB_PROFILE)\n",
    "\n",
    "from aiida.orm.querybuilder import QueryBuilder\n",
    "from aiida.orm.data.structure import StructureData\n",
    "from aiida.orm.calculation import Calculation\n",
    "from aiida.orm.data.cif import CifData\n",
    "\n",
    "import ase.io\n",
    "import sys\n",
    "import numpy as np\n",
    "import ipywidgets as ipw\n",
    "from base64 import b64decode\n",
    "from IPython.display import display, clear_output, Image\n",
    "from fileupload import FileUploadWidget\n",
    "from tempfile import NamedTemporaryFile\n",
    "from base64 import b64encode\n",
    "\n",
    "\n",
    "import nglview"
   ]
  },
  {
   "cell_type": "code",
   "execution_count": 2,
   "metadata": {},
   "outputs": [],
   "source": [
    "PREPROCESS_VERSION = 0.04\n",
    "iteration = 0\n",
    "def preprocess_newbies():\n",
    "    global struct, iteration\n",
    "    qb = QueryBuilder()\n",
    "    qb.append(CifData, filters={\n",
    "        'or':[\n",
    "                {'extras': {'!has_key': 'preprocess_version'}},\n",
    "                {'extras.preprocess_version': {'<': PREPROCESS_VERSION}},\n",
    "            ],\n",
    "     })\n",
    "#    qb.append(CifData, filters={'id':{'==':100}})\n",
    "    \n",
    "    qb.limit(100)\n",
    "    #i=0\n",
    "    #lst = qb.all()\n",
    "    #print (\"size: {}\".format(sys.getsizeof(lst)))\n",
    "    for m in qb.all(batch_size=100): # iterall() would interfere with set_extra()\n",
    "        n = m[0]\n",
    "        try:\n",
    "            #print(\"preprocess started\")\n",
    "            preprocess_one(n)\n",
    "            n.set_extra('preprocess_successful', True)\n",
    "            n.set_extra('preprocess_version', PREPROCESS_VERSION)\n",
    "            #print(\"Preprocessed PK %d\"%n.pk)\n",
    "        except Exception as e:\n",
    "            n.set_extra('preprocess_successful', False)\n",
    "            n.set_extra('preprocess_error', str(e))\n",
    "            n.set_extra('preprocess_version', PREPROCESS_VERSION)\n",
    "            print(\"Failed to preprocess PK %d: %s\"%(n.pk, e))\n",
    "        iteration+=1\n",
    "    print (iteration)\n",
    "    "
   ]
  },
  {
   "cell_type": "code",
   "execution_count": 5,
   "metadata": {},
   "outputs": [],
   "source": [
    "def preprocess_one(structure):\n",
    "    ase_struct = structure.get_ase()\n",
    "    formula = ase_struct.get_chemical_formula()\n",
    "    structure.set_extra('formula', '{}'.format(formula))\n",
    "    structure.set_extra('structure_description', structure.description)\n",
    "    \n",
    "    # output parameters\n",
    "    params_dict = structure.get_outputs()[0].get_outputs()[0].get_dict()\n",
    "    #print (params_dict)\n",
    "    #print(\"Start extras\")\n",
    "    #sys.stdout.flush()\n",
    "    for key, value in params_dict.iteritems():\n",
    "        try:\n",
    "            structure.set_extra(key, float(value))\n",
    "        except:\n",
    "            structure.set_extra(key, value)\n",
    "    #structure.set_extras(params_dict)\n",
    "    #print (\"Got extras\")\n",
    "    #sys.stdout.flush()\n",
    "    thumbnail = render_thumbnail(ase_struct)\n",
    "    structure.set_extra('thumbnail', thumbnail)"
   ]
  },
  {
   "cell_type": "code",
   "execution_count": 6,
   "metadata": {},
   "outputs": [],
   "source": [
    "def render_thumbnail(atoms):\n",
    "    tmp = NamedTemporaryFile()\n",
    "    ase.io.write(tmp.name, atoms, format='png') # does not accept StringIO\n",
    "    raw = open(tmp.name).read()\n",
    "    tmp.close()\n",
    "    return b64encode(raw)"
   ]
  },
  {
   "cell_type": "code",
   "execution_count": null,
   "metadata": {},
   "outputs": [
    {
     "name": "stdout",
     "output_type": "stream",
     "text": [
      "100\n",
      "200\n",
      "300\n",
      "400\n",
      "500\n",
      "600\n",
      "700\n",
      "800\n",
      "900\n",
      "1000\n",
      "1100\n",
      "1200\n",
      "1300\n",
      "1400\n",
      "1500\n",
      "1600\n",
      "1700\n",
      "1800\n",
      "1900\n",
      "2000\n",
      "2100\n",
      "2200\n",
      "2300\n",
      "2400\n",
      "2500\n",
      "2600\n",
      "2700\n",
      "2800\n",
      "2900\n",
      "3000\n",
      "3100\n",
      "3200\n",
      "3300\n",
      "3400\n",
      "3500\n",
      "3600\n"
     ]
    }
   ],
   "source": [
    "for i in range(700):\n",
    "    preprocess_newbies()"
   ]
  },
  {
   "cell_type": "code",
   "execution_count": null,
   "metadata": {},
   "outputs": [],
   "source": []
  }
 ],
 "metadata": {
  "kernelspec": {
   "display_name": "Python 2",
   "language": "python",
   "name": "python2"
  },
  "language_info": {
   "codemirror_mode": {
    "name": "ipython",
    "version": 2
   },
   "file_extension": ".py",
   "mimetype": "text/x-python",
   "name": "python",
   "nbconvert_exporter": "python",
   "pygments_lexer": "ipython2",
   "version": "2.7.14"
  }
 },
 "nbformat": 4,
 "nbformat_minor": 2
}
